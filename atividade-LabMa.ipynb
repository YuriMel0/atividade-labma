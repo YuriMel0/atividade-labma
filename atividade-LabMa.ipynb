{
 "cells": [
  {
   "cell_type": "markdown",
   "id": "bf599e1a",
   "metadata": {},
   "source": [
    "![logo](https://encrypted-tbn0.gstatic.com/images?q=tbn:ANd9GcTAHMVUgvu2SYOVNWmm92ZXM3OPmV75e005vKQXbnUx&s)\n",
    "\n",
    "# <center> Atividade LabMa</center>\n",
    "***\n",
    "\n",
    "## Autor: Yuri Melo\n",
    "\n",
    "### Implementar os seguintes métodos\n",
    " - Filtrar \n",
    " - Agrupar\n",
    " - Pivotear\n",
    " - Concatenar\n",
    " - Mesclar"
   ]
  }
 ],
 "metadata": {
  "kernelspec": {
   "display_name": "Python 3 (ipykernel)",
   "language": "python",
   "name": "python3"
  },
  "language_info": {
   "codemirror_mode": {
    "name": "ipython",
    "version": 3
   },
   "file_extension": ".py",
   "mimetype": "text/x-python",
   "name": "python",
   "nbconvert_exporter": "python",
   "pygments_lexer": "ipython3",
   "version": "3.9.13"
  }
 },
 "nbformat": 4,
 "nbformat_minor": 5
}
